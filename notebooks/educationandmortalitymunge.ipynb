{
 "cells": [
  {
   "cell_type": "code",
   "execution_count": null,
   "metadata": {},
   "outputs": [],
   "source": [
    "import pandas as pd"
   ]
  },
  {
   "cell_type": "code",
   "execution_count": null,
   "metadata": {},
   "outputs": [],
   "source": [
    "mortality = pd.read_csv('mortalitybycountry.csv')\n",
    "primary = pd.read_csv('primary_school.csv')\n",
    "secondary = pd.read_csv('secondary_school.csv')\n",
    "combined = pd.read_csv('primary_secondary.csv')"
   ]
  },
  {
   "cell_type": "code",
   "execution_count": null,
   "metadata": {},
   "outputs": [],
   "source": [
    "mortality.head()"
   ]
  },
  {
   "cell_type": "code",
   "execution_count": null,
   "metadata": {},
   "outputs": [],
   "source": [
    "median_mort = mortality.loc[mortality['Uncertainty bounds*'] == 'Median']\n"
   ]
  },
  {
   "cell_type": "code",
   "execution_count": null,
   "metadata": {},
   "outputs": [],
   "source": [
    "mortality_rates = median_mort.rename(columns = lambda x : str(x)[:-2])"
   ]
  },
  {
   "cell_type": "code",
   "execution_count": null,
   "metadata": {},
   "outputs": [],
   "source": [
    "primary.head()"
   ]
  },
  {
   "cell_type": "code",
   "execution_count": null,
   "metadata": {},
   "outputs": [],
   "source": [
    "secondary.head()"
   ]
  },
  {
   "cell_type": "code",
   "execution_count": null,
   "metadata": {},
   "outputs": [],
   "source": [
    "combined.head()"
   ]
  },
  {
   "cell_type": "code",
   "execution_count": null,
   "metadata": {},
   "outputs": [],
   "source": [
    "mortality_rates"
   ]
  },
  {
   "cell_type": "code",
   "execution_count": null,
   "metadata": {},
   "outputs": [],
   "source": [
    "combined2017 = combined[['Country', '2017', 'ISO-alpha3 code']]\n",
    "combined2017 = combined2017.rename(columns={'2017': 'Out of Primary and Secondary'})\n",
    "combined2017.head()"
   ]
  },
  {
   "cell_type": "code",
   "execution_count": null,
   "metadata": {},
   "outputs": [],
   "source": [
    "secondary2017 = secondary[['Country', '2017', 'ISO-alpha3 code']]\n",
    "secondary2017 = secondary2017.rename(columns={'2017': 'Out of Secondary'})\n",
    "secondary2017.head()"
   ]
  },
  {
   "cell_type": "code",
   "execution_count": null,
   "metadata": {},
   "outputs": [],
   "source": [
    "primary2017 = primary[['Country', '2017', 'ISO-alpha3 code']]\n",
    "primary2017 = primary2017.rename(columns={'2017': 'Out of Primary'})\n",
    "primary2017.head()"
   ]
  },
  {
   "cell_type": "code",
   "execution_count": null,
   "metadata": {},
   "outputs": [],
   "source": [
    "mortality2017 = mortality_rates[['ISO Co', 'Country Na', '2017']]\n",
    "mortality2017 = mortality2017.rename(columns={'ISO Co': 'ISO-alpha3 code',\n",
    "                             'Country Na': 'Country',\n",
    "                            '2017': 'Mortality'})\n",
    "mortality2017.head()"
   ]
  },
  {
   "cell_type": "code",
   "execution_count": null,
   "metadata": {},
   "outputs": [],
   "source": [
    "combined_secondary = pd.merge(combined2017, secondary2017, how='outer', on='ISO-alpha3 code')\n",
    "combined_secondary.head()"
   ]
  },
  {
   "cell_type": "code",
   "execution_count": null,
   "metadata": {},
   "outputs": [],
   "source": [
    "combined_secondary_primary = pd.merge(combined_secondary, primary2017, how='outer', on='ISO-alpha3 code')\n",
    "combined_secondary_primary.head()"
   ]
  },
  {
   "cell_type": "code",
   "execution_count": null,
   "metadata": {},
   "outputs": [],
   "source": [
    "clean = combined_secondary_primary.drop(columns=['Country_x', 'Country_y'])"
   ]
  },
  {
   "cell_type": "code",
   "execution_count": null,
   "metadata": {},
   "outputs": [],
   "source": [
    "all_merged = pd.merge(clean, mortality2017, how='outer', on='ISO-alpha3 code')\n",
    "all_merged.head()"
   ]
  },
  {
   "cell_type": "code",
   "execution_count": null,
   "metadata": {},
   "outputs": [],
   "source": [
    "final_df = all_merged.drop(columns=['Country_x']).rename(columns={'ISO-alpha3 code': 'CountryCode',\n",
    "                                                       'Country_y': 'Country',\n",
    "                                                      'Out of Primary and Secondary': 'Both',\n",
    "                                                      'Out of Secondary': 'Secondary',\n",
    "                                                      'Out of Primary': 'Primary',\n",
    "                                                        }).head()"
   ]
  },
  {
   "cell_type": "code",
   "execution_count": null,
   "metadata": {},
   "outputs": [],
   "source": [
    "final_df.to_csv('education_mortality_data_2017.csv')"
   ]
  },
  {
   "cell_type": "code",
   "execution_count": null,
   "metadata": {},
   "outputs": [],
   "source": []
  }
 ],
 "metadata": {
  "kernelspec": {
   "display_name": "Python 3",
   "language": "python",
   "name": "python3"
  },
  "language_info": {
   "codemirror_mode": {
    "name": "ipython",
    "version": 3
   },
   "file_extension": ".py",
   "mimetype": "text/x-python",
   "name": "python",
   "nbconvert_exporter": "python",
   "pygments_lexer": "ipython3",
   "version": "3.6.8"
  }
 },
 "nbformat": 4,
 "nbformat_minor": 2
}
