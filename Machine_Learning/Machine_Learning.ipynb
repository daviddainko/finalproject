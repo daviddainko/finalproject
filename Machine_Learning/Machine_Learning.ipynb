{
 "cells": [
  {
   "cell_type": "code",
   "execution_count": 1,
   "metadata": {},
   "outputs": [],
   "source": [
    "import pandas as pd"
   ]
  },
  {
   "cell_type": "code",
   "execution_count": 2,
   "metadata": {},
   "outputs": [],
   "source": [
    "rates = pd.read_csv('mortality_rate.csv')"
   ]
  },
  {
   "cell_type": "code",
   "execution_count": 5,
   "metadata": {},
   "outputs": [],
   "source": [
    "codes = rates['ISO Code']"
   ]
  },
  {
   "cell_type": "code",
   "execution_count": 6,
   "metadata": {},
   "outputs": [],
   "source": [
    "counter = 0\n",
    "country_id = []\n",
    "for code in codes:\n",
    "    if counter < 1:\n",
    "        counter += 1\n",
    "        country_id.append(code)\n",
    "    elif counter < 2:\n",
    "        counter += 1\n",
    "    else:\n",
    "        counter = 0"
   ]
  },
  {
   "cell_type": "code",
   "execution_count": 7,
   "metadata": {},
   "outputs": [],
   "source": [
    "ids = pd.DataFrame(country_id)"
   ]
  },
  {
   "cell_type": "code",
   "execution_count": 9,
   "metadata": {},
   "outputs": [],
   "source": [
    "import numpy as np"
   ]
  },
  {
   "cell_type": "code",
   "execution_count": 11,
   "metadata": {},
   "outputs": [],
   "source": [
    "df = rates['2011']"
   ]
  },
  {
   "cell_type": "code",
   "execution_count": 12,
   "metadata": {},
   "outputs": [],
   "source": [
    "year2011 = df.groupby(np.arange(len(df))//3).mean()"
   ]
  },
  {
   "cell_type": "code",
   "execution_count": 13,
   "metadata": {},
   "outputs": [],
   "source": [
    "year = pd.DataFrame(year2011)"
   ]
  },
  {
   "cell_type": "code",
   "execution_count": 15,
   "metadata": {},
   "outputs": [],
   "source": [
    "ids = pd.DataFrame(country_id)"
   ]
  },
  {
   "cell_type": "code",
   "execution_count": 18,
   "metadata": {
    "scrolled": true
   },
   "outputs": [],
   "source": [
    "refined_data = pd.concat([ids,year],axis=1)"
   ]
  },
  {
   "cell_type": "code",
   "execution_count": 19,
   "metadata": {
    "scrolled": true
   },
   "outputs": [],
   "source": [
    "refined_data = refined_data.rename(columns={0:'ISO_Code','2011.5':'2011_Mortality_Rate'})"
   ]
  },
  {
   "cell_type": "code",
   "execution_count": 20,
   "metadata": {},
   "outputs": [],
   "source": [
    "refined_data.to_csv('testing_data.csv')"
   ]
  },
  {
   "cell_type": "code",
   "execution_count": 21,
   "metadata": {
    "scrolled": true
   },
   "outputs": [],
   "source": [
    "df = pd.read_csv('primary_school.csv')"
   ]
  },
  {
   "cell_type": "code",
   "execution_count": 22,
   "metadata": {},
   "outputs": [],
   "source": [
    "data = df.loc[:,['2011','ISO-alpha3 code']]"
   ]
  },
  {
   "cell_type": "code",
   "execution_count": 24,
   "metadata": {},
   "outputs": [],
   "source": [
    "data = data.replace({'..':np.NaN})"
   ]
  },
  {
   "cell_type": "code",
   "execution_count": 25,
   "metadata": {
    "scrolled": true
   },
   "outputs": [],
   "source": [
    "data = data[data.columns[::-1]]\n",
    "# Do not run again less the columns flip again ^ df.columns[::-1] reverses the order and df[] re-indexes the DataFrame"
   ]
  },
  {
   "cell_type": "code",
   "execution_count": 26,
   "metadata": {
    "scrolled": true
   },
   "outputs": [],
   "source": [
    "data = data.rename(columns={'ISO-alpha3 code':'ISO_Code'})"
   ]
  },
  {
   "cell_type": "code",
   "execution_count": 27,
   "metadata": {},
   "outputs": [],
   "source": [
    "secondary_school = pd.read_csv('secondary_school.csv')"
   ]
  },
  {
   "cell_type": "code",
   "execution_count": 28,
   "metadata": {},
   "outputs": [],
   "source": [
    "sec_sch_2011 = secondary_school.loc[:,['2011','ISO-alpha3 code']]"
   ]
  },
  {
   "cell_type": "code",
   "execution_count": 29,
   "metadata": {
    "scrolled": true
   },
   "outputs": [],
   "source": [
    "sec_sch_2011 = sec_sch_2011[sec_sch_2011.columns[::-1]]"
   ]
  },
  {
   "cell_type": "code",
   "execution_count": 30,
   "metadata": {},
   "outputs": [],
   "source": [
    "data = data.replace({'..':np.NaN})\n",
    "sec_sch_2011 = sec_sch_2011.replace({'..':np.NaN})"
   ]
  },
  {
   "cell_type": "code",
   "execution_count": 32,
   "metadata": {},
   "outputs": [],
   "source": [
    "data = data.rename(columns={'ISO-alpha3 code':'ISO_Code', '2011':'primary_school'})\n",
    "sec_sch_2011 = sec_sch_2011.rename(columns={'ISO-alpha3 code':'ISO_Code', '2011': 'secondary_school'})"
   ]
  },
  {
   "cell_type": "code",
   "execution_count": 34,
   "metadata": {},
   "outputs": [],
   "source": [
    "# data & refined_data\n",
    "final_table = pd.merge(data, refined_data, on='ISO_Code', how='inner')"
   ]
  },
  {
   "cell_type": "code",
   "execution_count": 35,
   "metadata": {
    "scrolled": true
   },
   "outputs": [],
   "source": [
    "final_table = pd.merge(final_table, sec_sch_2011, on='ISO_Code', how='inner')"
   ]
  },
  {
   "cell_type": "code",
   "execution_count": 36,
   "metadata": {},
   "outputs": [],
   "source": [
    "final_table = final_table.dropna()"
   ]
  },
  {
   "cell_type": "code",
   "execution_count": 38,
   "metadata": {},
   "outputs": [],
   "source": [
    "gdp_csv = pd.read_csv('Global_GDP.csv')"
   ]
  },
  {
   "cell_type": "code",
   "execution_count": 39,
   "metadata": {},
   "outputs": [],
   "source": [
    "gdp_data = gdp_csv[['2011','Country Code']]"
   ]
  },
  {
   "cell_type": "code",
   "execution_count": 40,
   "metadata": {},
   "outputs": [],
   "source": [
    "gdp_data = gdp_data[gdp_data.columns[::-1]]\n",
    "# Do not run again less the columns flip again ^ df.columns[::-1] reverses the order and df[] re-indexes the DataFrame"
   ]
  },
  {
   "cell_type": "code",
   "execution_count": 41,
   "metadata": {},
   "outputs": [],
   "source": [
    "gdp_data = gdp_data.rename(columns={'Country Code': 'ISO_Code','2011':'GDP'})"
   ]
  },
  {
   "cell_type": "code",
   "execution_count": 42,
   "metadata": {},
   "outputs": [],
   "source": [
    "final_table = pd.merge(final_table, gdp_data, on='ISO_Code', how='inner')\n",
    "final_table = final_table.dropna()"
   ]
  },
  {
   "cell_type": "code",
   "execution_count": 43,
   "metadata": {},
   "outputs": [],
   "source": [
    "final_table = final_table.iloc[:,0:5]\n",
    "final_table = final_table.rename(columns={'GDP_x':'GDP'})"
   ]
  },
  {
   "cell_type": "code",
   "execution_count": 44,
   "metadata": {},
   "outputs": [],
   "source": [
    "final_table = final_table.rename(columns={'2011':'2011_Mortality_Rate'})\n",
    "final_table = final_table[['ISO_Code','primary_school','secondary_school','GDP','2011_Mortality_Rate']]"
   ]
  },
  {
   "cell_type": "code",
   "execution_count": 46,
   "metadata": {},
   "outputs": [],
   "source": [
    "final_table.to_csv('testing_data.csv')"
   ]
  },
  {
   "cell_type": "markdown",
   "metadata": {},
   "source": [
    "Data Pre-Processing"
   ]
  },
  {
   "cell_type": "code",
   "execution_count": 47,
   "metadata": {},
   "outputs": [
    {
     "name": "stdout",
     "output_type": "stream",
     "text": [
      "(47, 3) (47, 1)\n"
     ]
    }
   ],
   "source": [
    "X = final_table.loc[:, ['primary_school','secondary_school','GDP']]\n",
    "y = final_table['2011_Mortality_Rate'].values.reshape(-1,1)\n",
    "print(X.shape,y.shape)"
   ]
  },
  {
   "cell_type": "code",
   "execution_count": 48,
   "metadata": {},
   "outputs": [
    {
     "name": "stderr",
     "output_type": "stream",
     "text": [
      "Using TensorFlow backend.\n",
      "/Users/davidcdainko/anaconda3/lib/python3.6/site-packages/sklearn/preprocessing/data.py:645: DataConversionWarning: Data with input dtype float64, object were all converted to float64 by StandardScaler.\n",
      "  return self.partial_fit(X, y)\n",
      "/Users/davidcdainko/anaconda3/lib/python3.6/site-packages/ipykernel_launcher.py:16: DataConversionWarning: Data with input dtype float64, object were all converted to float64 by StandardScaler.\n",
      "  app.launch_new_instance()\n",
      "/Users/davidcdainko/anaconda3/lib/python3.6/site-packages/ipykernel_launcher.py:17: DataConversionWarning: Data with input dtype float64, object were all converted to float64 by StandardScaler.\n"
     ]
    }
   ],
   "source": [
    "from sklearn.model_selection import train_test_split\n",
    "from sklearn.preprocessing import LabelEncoder, StandardScaler\n",
    "from keras.utils import to_categorical\n",
    "\n",
    "X_train, X_test, y_train, y_test = train_test_split(\n",
    "    X, y, random_state=1)\n",
    "X_scaler = StandardScaler().fit(X_train)\n",
    "y_scaler = StandardScaler().fit(y_train)\n",
    "\n",
    "# Transform the training and testing data using the X_scaler and y_scaler models\n",
    "\n",
    "X_train_scaled = X_scaler.transform(X_train)\n",
    "X_test_scaled = X_scaler.transform(X_test)\n",
    "y_train_scaled = y_scaler.transform(y_train)\n",
    "y_test_scaled = y_scaler.transform(y_test)"
   ]
  },
  {
   "cell_type": "code",
   "execution_count": 49,
   "metadata": {},
   "outputs": [
    {
     "name": "stdout",
     "output_type": "stream",
     "text": [
      "WARNING:tensorflow:From /Users/davidcdainko/anaconda3/lib/python3.6/site-packages/tensorflow/python/framework/op_def_library.py:263: colocate_with (from tensorflow.python.framework.ops) is deprecated and will be removed in a future version.\n",
      "Instructions for updating:\n",
      "Colocations handled automatically by placer.\n"
     ]
    }
   ],
   "source": [
    "from keras.models import Sequential\n",
    "from keras.layers import Dense\n",
    "\n",
    "model = Sequential()\n",
    "model.add(Dense(units=10, activation='relu', input_dim=3, kernel_initializer='random_uniform'))\n",
    "model.add(Dense(units=20, activation='relu'))\n",
    "model.add(Dense(units=1, activation='linear'))"
   ]
  },
  {
   "cell_type": "code",
   "execution_count": 50,
   "metadata": {},
   "outputs": [
    {
     "name": "stdout",
     "output_type": "stream",
     "text": [
      "WARNING:tensorflow:From /Users/davidcdainko/anaconda3/lib/python3.6/site-packages/tensorflow/python/ops/math_ops.py:3066: to_int32 (from tensorflow.python.ops.math_ops) is deprecated and will be removed in a future version.\n",
      "Instructions for updating:\n",
      "Use tf.cast instead.\n",
      "Epoch 1/60\n",
      " - 0s - loss: 0.9951 - acc: 0.0000e+00\n",
      "Epoch 2/60\n",
      " - 0s - loss: 0.9908 - acc: 0.0000e+00\n",
      "Epoch 3/60\n",
      " - 0s - loss: 0.9872 - acc: 0.0000e+00\n",
      "Epoch 4/60\n",
      " - 0s - loss: 0.9832 - acc: 0.0000e+00\n",
      "Epoch 5/60\n",
      " - 0s - loss: 0.9792 - acc: 0.0000e+00\n",
      "Epoch 6/60\n",
      " - 0s - loss: 0.9748 - acc: 0.0000e+00\n",
      "Epoch 7/60\n",
      " - 0s - loss: 0.9701 - acc: 0.0000e+00\n",
      "Epoch 8/60\n",
      " - 0s - loss: 0.9647 - acc: 0.0000e+00\n",
      "Epoch 9/60\n",
      " - 0s - loss: 0.9590 - acc: 0.0000e+00\n",
      "Epoch 10/60\n",
      " - 0s - loss: 0.9530 - acc: 0.0000e+00\n",
      "Epoch 11/60\n",
      " - 0s - loss: 0.9464 - acc: 0.0000e+00\n",
      "Epoch 12/60\n",
      " - 0s - loss: 0.9396 - acc: 0.0000e+00\n",
      "Epoch 13/60\n",
      " - 0s - loss: 0.9319 - acc: 0.0000e+00\n",
      "Epoch 14/60\n",
      " - 0s - loss: 0.9245 - acc: 0.0000e+00\n",
      "Epoch 15/60\n",
      " - 0s - loss: 0.9165 - acc: 0.0000e+00\n",
      "Epoch 16/60\n",
      " - 0s - loss: 0.9075 - acc: 0.0000e+00\n",
      "Epoch 17/60\n",
      " - 0s - loss: 0.8981 - acc: 0.0000e+00\n",
      "Epoch 18/60\n",
      " - 0s - loss: 0.8870 - acc: 0.0000e+00\n",
      "Epoch 19/60\n",
      " - 0s - loss: 0.8761 - acc: 0.0000e+00\n",
      "Epoch 20/60\n",
      " - 0s - loss: 0.8666 - acc: 0.0000e+00\n",
      "Epoch 21/60\n",
      " - 0s - loss: 0.8552 - acc: 0.0000e+00\n",
      "Epoch 22/60\n",
      " - 0s - loss: 0.8435 - acc: 0.0000e+00\n",
      "Epoch 23/60\n",
      " - 0s - loss: 0.8323 - acc: 0.0000e+00\n",
      "Epoch 24/60\n",
      " - 0s - loss: 0.8203 - acc: 0.0000e+00\n",
      "Epoch 25/60\n",
      " - 0s - loss: 0.8087 - acc: 0.0000e+00\n",
      "Epoch 26/60\n",
      " - 0s - loss: 0.7967 - acc: 0.0000e+00\n",
      "Epoch 27/60\n",
      " - 0s - loss: 0.7843 - acc: 0.0000e+00\n",
      "Epoch 28/60\n",
      " - 0s - loss: 0.7720 - acc: 0.0000e+00\n",
      "Epoch 29/60\n",
      " - 0s - loss: 0.7579 - acc: 0.0000e+00\n",
      "Epoch 30/60\n",
      " - 0s - loss: 0.7450 - acc: 0.0000e+00\n",
      "Epoch 31/60\n",
      " - 0s - loss: 0.7304 - acc: 0.0000e+00\n",
      "Epoch 32/60\n",
      " - 0s - loss: 0.7151 - acc: 0.0000e+00\n",
      "Epoch 33/60\n",
      " - 0s - loss: 0.7008 - acc: 0.0000e+00\n",
      "Epoch 34/60\n",
      " - 0s - loss: 0.6860 - acc: 0.0000e+00\n",
      "Epoch 35/60\n",
      " - 0s - loss: 0.6716 - acc: 0.0000e+00\n",
      "Epoch 36/60\n",
      " - 0s - loss: 0.6564 - acc: 0.0000e+00\n",
      "Epoch 37/60\n",
      " - 0s - loss: 0.6417 - acc: 0.0000e+00\n",
      "Epoch 38/60\n",
      " - 0s - loss: 0.6264 - acc: 0.0000e+00\n",
      "Epoch 39/60\n",
      " - 0s - loss: 0.6104 - acc: 0.0000e+00\n",
      "Epoch 40/60\n",
      " - 0s - loss: 0.5949 - acc: 0.0000e+00\n",
      "Epoch 41/60\n",
      " - 0s - loss: 0.5791 - acc: 0.0000e+00\n",
      "Epoch 42/60\n",
      " - 0s - loss: 0.5639 - acc: 0.0000e+00\n",
      "Epoch 43/60\n",
      " - 0s - loss: 0.5485 - acc: 0.0000e+00\n",
      "Epoch 44/60\n",
      " - 0s - loss: 0.5334 - acc: 0.0000e+00\n",
      "Epoch 45/60\n",
      " - 0s - loss: 0.5176 - acc: 0.0000e+00\n",
      "Epoch 46/60\n",
      " - 0s - loss: 0.5016 - acc: 0.0000e+00\n",
      "Epoch 47/60\n",
      " - 0s - loss: 0.4858 - acc: 0.0000e+00\n",
      "Epoch 48/60\n",
      " - 0s - loss: 0.4685 - acc: 0.0000e+00\n",
      "Epoch 49/60\n",
      " - 0s - loss: 0.4515 - acc: 0.0000e+00\n",
      "Epoch 50/60\n",
      " - 0s - loss: 0.4332 - acc: 0.0000e+00\n",
      "Epoch 51/60\n",
      " - 0s - loss: 0.4183 - acc: 0.0000e+00\n",
      "Epoch 52/60\n",
      " - 0s - loss: 0.4015 - acc: 0.0000e+00\n",
      "Epoch 53/60\n",
      " - 0s - loss: 0.3854 - acc: 0.0000e+00\n",
      "Epoch 54/60\n",
      " - 0s - loss: 0.3708 - acc: 0.0000e+00\n",
      "Epoch 55/60\n",
      " - 0s - loss: 0.3564 - acc: 0.0000e+00\n",
      "Epoch 56/60\n",
      " - 0s - loss: 0.3440 - acc: 0.0000e+00\n",
      "Epoch 57/60\n",
      " - 0s - loss: 0.3302 - acc: 0.0000e+00\n",
      "Epoch 58/60\n",
      " - 0s - loss: 0.3182 - acc: 0.0000e+00\n",
      "Epoch 59/60\n",
      " - 0s - loss: 0.3065 - acc: 0.0000e+00\n",
      "Epoch 60/60\n",
      " - 0s - loss: 0.2963 - acc: 0.0000e+00\n"
     ]
    },
    {
     "data": {
      "text/plain": [
       "<keras.callbacks.History at 0x10bdd1748>"
      ]
     },
     "execution_count": 50,
     "metadata": {},
     "output_type": "execute_result"
    }
   ],
   "source": [
    "model.compile(optimizer='adam',\n",
    "             loss = 'mean_squared_error',\n",
    "             metrics=['acc'])\n",
    "\n",
    "model.fit(\n",
    "    X_train_scaled, \n",
    "    y_train_scaled, \n",
    "    epochs=60, \n",
    "    shuffle=True, \n",
    "    verbose=2)"
   ]
  },
  {
   "cell_type": "code",
   "execution_count": 51,
   "metadata": {},
   "outputs": [
    {
     "name": "stdout",
     "output_type": "stream",
     "text": [
      "_________________________________________________________________\n",
      "Layer (type)                 Output Shape              Param #   \n",
      "=================================================================\n",
      "dense_1 (Dense)              (None, 10)                40        \n",
      "_________________________________________________________________\n",
      "dense_2 (Dense)              (None, 20)                220       \n",
      "_________________________________________________________________\n",
      "dense_3 (Dense)              (None, 1)                 21        \n",
      "=================================================================\n",
      "Total params: 281\n",
      "Trainable params: 281\n",
      "Non-trainable params: 0\n",
      "_________________________________________________________________\n"
     ]
    }
   ],
   "source": [
    "model.summary()"
   ]
  },
  {
   "cell_type": "code",
   "execution_count": 52,
   "metadata": {},
   "outputs": [],
   "source": [
    "from sklearn.linear_model import LinearRegression\n",
    "model = LinearRegression()"
   ]
  },
  {
   "cell_type": "code",
   "execution_count": 53,
   "metadata": {},
   "outputs": [
    {
     "name": "stdout",
     "output_type": "stream",
     "text": [
      "Training Score: 0.7418646456307642\n",
      "Testing Score: 0.5302307721100319\n"
     ]
    }
   ],
   "source": [
    "model.fit(X_train, y_train)\n",
    "training_score = model.score(X_train, y_train)\n",
    "testing_score = model.score(X_test, y_test)\n",
    "print(f\"Training Score: {training_score}\")\n",
    "print(f\"Testing Score: {testing_score}\")"
   ]
  },
  {
   "cell_type": "code",
   "execution_count": 54,
   "metadata": {},
   "outputs": [],
   "source": [
    "%matplotlib inline\n",
    "import matplotlib.pyplot as plt"
   ]
  },
  {
   "cell_type": "code",
   "execution_count": 55,
   "metadata": {},
   "outputs": [
    {
     "data": {
      "text/plain": [
       "Text(0.5, 1.0, 'Residual Plot')"
      ]
     },
     "execution_count": 55,
     "metadata": {},
     "output_type": "execute_result"
    },
    {
     "data": {
      "image/png": "[encoded data removed]",
      "text/plain": [
       "<Figure size 432x288 with 1 Axes>"
      ]
     },
     "metadata": {
      "needs_background": "light"
     },
     "output_type": "display_data"
    }
   ],
   "source": [
    "plt.scatter(model.predict(X_train), model.predict(X_train) - y_train, c=\"blue\", label=\"Training Data\")\n",
    "plt.scatter(model.predict(X_test), model.predict(X_test) - y_test, c=\"orange\", label=\"Testing Data\")\n",
    "plt.legend()\n",
    "plt.hlines(y=0, xmin=y.min(), xmax=y.max())\n",
    "plt.title(\"Residual Plot\")"
   ]
  },
  {
   "cell_type": "code",
   "execution_count": 56,
   "metadata": {},
   "outputs": [],
   "source": [
    "from sklearn.model_selection import train_test_split\n",
    "\n",
    "X_train, X_test, y_train, y_test = train_test_split(X, y, random_state=42)"
   ]
  },
  {
   "cell_type": "code",
   "execution_count": 57,
   "metadata": {},
   "outputs": [
    {
     "name": "stderr",
     "output_type": "stream",
     "text": [
      "/Users/davidcdainko/anaconda3/lib/python3.6/site-packages/sklearn/preprocessing/data.py:645: DataConversionWarning: Data with input dtype float64, object were all converted to float64 by StandardScaler.\n",
      "  return self.partial_fit(X, y)\n",
      "/Users/davidcdainko/anaconda3/lib/python3.6/site-packages/ipykernel_launcher.py:5: DataConversionWarning: Data with input dtype float64, object were all converted to float64 by StandardScaler.\n",
      "  \"\"\"\n",
      "/Users/davidcdainko/anaconda3/lib/python3.6/site-packages/ipykernel_launcher.py:6: DataConversionWarning: Data with input dtype float64, object were all converted to float64 by StandardScaler.\n",
      "  \n"
     ]
    }
   ],
   "source": [
    "from sklearn.preprocessing import StandardScaler\n",
    "X_scaler = StandardScaler().fit(X_train)\n",
    "y_scaler = StandardScaler().fit(y_train)\n",
    "\n",
    "X_train_scaled = X_scaler.transform(X_train)\n",
    "X_test_scaled = X_scaler.transform(X_test)\n",
    "y_train_scaled = y_scaler.transform(y_train)\n",
    "y_test_scaled = y_scaler.transform(y_test)"
   ]
  },
  {
   "cell_type": "code",
   "execution_count": 58,
   "metadata": {},
   "outputs": [
    {
     "name": "stdout",
     "output_type": "stream",
     "text": [
      "MSE: 167.98192453749203, R2: -6200.457422930636\n"
     ]
    }
   ],
   "source": [
    "from sklearn.metrics import mean_squared_error\n",
    "\n",
    "predictions = model.predict(X_test_scaled)\n",
    "MSE = mean_squared_error(y_test_scaled, predictions)\n",
    "r2 = model.score(X_test_scaled, y_test_scaled)\n",
    "\n",
    "print(f\"MSE: {MSE}, R2: {r2}\")"
   ]
  },
  {
   "cell_type": "code",
   "execution_count": 59,
   "metadata": {},
   "outputs": [
    {
     "data": {
      "text/plain": [
       "array([[12.78538085],\n",
       "       [12.25903028],\n",
       "       [12.74510121],\n",
       "       [12.27245188],\n",
       "       [12.0753712 ],\n",
       "       [12.48664031],\n",
       "       [11.79687542],\n",
       "       [11.9539669 ],\n",
       "       [11.96089847],\n",
       "       [12.41194287],\n",
       "       [11.7392932 ],\n",
       "       [11.88524358]])"
      ]
     },
     "execution_count": 59,
     "metadata": {},
     "output_type": "execute_result"
    }
   ],
   "source": [
    "predictions"
   ]
  },
  {
   "cell_type": "code",
   "execution_count": 60,
   "metadata": {},
   "outputs": [],
   "source": [
    "primary_school = pd.read_csv('primary_school.csv')\n",
    "secondary_school = pd.read_csv('secondary_school.csv')\n",
    "df_gdp = pd.read_csv('Global_GDP.csv')\n",
    "mortalities = pd.read_csv('mortality_rate.csv')"
   ]
  },
  {
   "cell_type": "markdown",
   "metadata": {},
   "source": [
    "Predictions Chart"
   ]
  },
  {
   "cell_type": "code",
   "execution_count": 63,
   "metadata": {},
   "outputs": [],
   "source": [
    "primary_school = pd.read_csv('primary_school.csv')\n",
    "secondary_school = pd.read_csv('secondary_school.csv')\n",
    "df_gdp = pd.read_csv('Global_GDP.csv')\n",
    "mortalities = pd.read_csv('mortality_rate.csv')"
   ]
  },
  {
   "cell_type": "code",
   "execution_count": 65,
   "metadata": {},
   "outputs": [],
   "source": [
    "IRE_primary = primary_school.loc[primary_school['Country'] == 'Ireland']\n",
    "IRE_secondary = secondary_school.loc[secondary_school['Country'] == 'Ireland']\n",
    "IRE_gdp = df_gdp.loc[df_gdp['Country Name'] == 'Ireland']\n",
    "IRE_mort = mortalities.loc[mortalities['Country Name'] == 'Ireland']"
   ]
  },
  {
   "cell_type": "code",
   "execution_count": 66,
   "metadata": {},
   "outputs": [],
   "source": [
    "codes = IRE_mort['ISO Code']"
   ]
  },
  {
   "cell_type": "code",
   "execution_count": 67,
   "metadata": {},
   "outputs": [],
   "source": [
    "counter = 0\n",
    "country_id = []\n",
    "for code in codes:\n",
    "    if counter < 1:\n",
    "        counter += 1\n",
    "        country_id.append(code)\n",
    "    elif counter < 2:\n",
    "        counter += 1\n",
    "    else:\n",
    "        counter = 0"
   ]
  },
  {
   "cell_type": "code",
   "execution_count": 68,
   "metadata": {},
   "outputs": [],
   "source": [
    "country_id = pd.DataFrame(country_id)"
   ]
  },
  {
   "cell_type": "code",
   "execution_count": 69,
   "metadata": {},
   "outputs": [],
   "source": [
    "IRE_mort = IRE_mort.groupby(np.arange(len(IRE_mort))//3).mean()"
   ]
  },
  {
   "cell_type": "code",
   "execution_count": 70,
   "metadata": {},
   "outputs": [],
   "source": [
    "IRE_data = pd.concat([country_id, IRE_mort],axis=1)"
   ]
  },
  {
   "cell_type": "code",
   "execution_count": 71,
   "metadata": {},
   "outputs": [],
   "source": [
    "IRE_primary = IRE_primary.iloc[:,2:]\n",
    "# Do not run again"
   ]
  },
  {
   "cell_type": "code",
   "execution_count": 73,
   "metadata": {},
   "outputs": [],
   "source": [
    "cols = list(IRE_primary.columns)\n",
    "cols = [cols[-1]] + cols[:-1]\n",
    "IRE_primary = IRE_primary[cols]"
   ]
  },
  {
   "cell_type": "code",
   "execution_count": 74,
   "metadata": {},
   "outputs": [],
   "source": [
    "IRE_primary = IRE_primary.rename(columns={'ISO-alpha3 code':'ISO_Code'})"
   ]
  },
  {
   "cell_type": "code",
   "execution_count": 76,
   "metadata": {},
   "outputs": [],
   "source": [
    "IRE_secondary = IRE_secondary.iloc[:,2:]\n",
    "# Do not run again"
   ]
  },
  {
   "cell_type": "code",
   "execution_count": 77,
   "metadata": {},
   "outputs": [],
   "source": [
    "cols = list(IRE_secondary.columns)\n",
    "cols = [cols[-1]] + cols[:-1]\n",
    "IRE_secondary = IRE_secondary[cols]"
   ]
  },
  {
   "cell_type": "code",
   "execution_count": 78,
   "metadata": {},
   "outputs": [],
   "source": [
    "IRE_primary = IRE_primary.rename(columns={'ISO-alpha3 code':'ISO_Code'})"
   ]
  },
  {
   "cell_type": "code",
   "execution_count": 79,
   "metadata": {},
   "outputs": [],
   "source": [
    "IRE_gdp = IRE_gdp.drop(['Country Name','Indicator Name'],axis=1)"
   ]
  },
  {
   "cell_type": "code",
   "execution_count": 80,
   "metadata": {},
   "outputs": [],
   "source": [
    "IRE_gdp = IRE_gdp.rename(columns={'Country Code':'ISO_Code'})"
   ]
  },
  {
   "cell_type": "code",
   "execution_count": 81,
   "metadata": {},
   "outputs": [],
   "source": [
    "IRE_primary = IRE_primary.iloc[:,1:]"
   ]
  },
  {
   "cell_type": "code",
   "execution_count": 82,
   "metadata": {
    "scrolled": true
   },
   "outputs": [],
   "source": [
    "IRE_primary = IRE_primary.transpose()\n",
    "IRE_secondary = IRE_secondary.transpose()\n",
    "IRE_gdp = IRE_gdp.transpose()\n",
    "IRE_mort = IRE_mort.transpose()"
   ]
  },
  {
   "cell_type": "code",
   "execution_count": 83,
   "metadata": {},
   "outputs": [],
   "source": [
    "IRE_primary = IRE_primary.rename(columns={103:'Primary_School'})\n",
    "IRE_secondary = IRE_secondary.rename(columns={103:'Secondary_School'})\n",
    "IRE_gdp = IRE_gdp.rename(columns={109:'GDP'})"
   ]
  },
  {
   "cell_type": "code",
   "execution_count": 85,
   "metadata": {},
   "outputs": [],
   "source": [
    "joined_table = IRE_gdp.join(IRE_mort, how='inner')\n",
    "joined_table = joined_table.join(IRE_primary)"
   ]
  },
  {
   "cell_type": "code",
   "execution_count": 86,
   "metadata": {},
   "outputs": [],
   "source": [
    "joined_table = joined_table.replace({'..':np.NaN})\n",
    "joined_table = joined_table.dropna()"
   ]
  },
  {
   "cell_type": "code",
   "execution_count": 91,
   "metadata": {},
   "outputs": [],
   "source": [
    "joined_table = joined_table.rename(columns={0:'Mortality_Rate'})\n",
    "joined_table = joined_table[['Primary_School','GDP','Mortality_Rate']]"
   ]
  },
  {
   "cell_type": "code",
   "execution_count": 93,
   "metadata": {},
   "outputs": [],
   "source": [
    "import math\n",
    "from sklearn import preprocessing"
   ]
  },
  {
   "cell_type": "code",
   "execution_count": 94,
   "metadata": {},
   "outputs": [],
   "source": [
    "forecast_out = int(math.ceil(0.1*len(joined_table)))\n",
    "# change the 0.1 later, predicts with 10% of the previous data"
   ]
  },
  {
   "cell_type": "code",
   "execution_count": 95,
   "metadata": {},
   "outputs": [],
   "source": [
    "forecast_col = 'Mortality_Rate'\n",
    "joined_table['label'] = joined_table[forecast_col].shift(-forecast_out)"
   ]
  },
  {
   "cell_type": "code",
   "execution_count": 96,
   "metadata": {},
   "outputs": [
    {
     "name": "stderr",
     "output_type": "stream",
     "text": [
      "/Users/davidcdainko/anaconda3/lib/python3.6/site-packages/sklearn/utils/validation.py:595: DataConversionWarning: Data with input dtype object was converted to float64 by the scale function.\n",
      "  warnings.warn(msg, DataConversionWarning)\n"
     ]
    }
   ],
   "source": [
    "X = np.array(joined_table.drop(['label'],1))\n",
    "X = preprocessing.scale(X)\n",
    "X = X[:-forecast_out]\n",
    "X_lately = X[-forecast_out:]\n"
   ]
  },
  {
   "cell_type": "code",
   "execution_count": 97,
   "metadata": {},
   "outputs": [],
   "source": [
    "joined_table.dropna(inplace=True)\n",
    "y = np.array(joined_table['label'])\n",
    "y = np.array(joined_table['label'])"
   ]
  },
  {
   "cell_type": "code",
   "execution_count": 98,
   "metadata": {},
   "outputs": [],
   "source": [
    "X_train, X_test, y_train, y_test = train_test_split(X, y, test_size=0.2)\n",
    "clf = LinearRegression(n_jobs=-1)\n",
    "clf.fit(X_train, y_train)\n",
    "accuracy = clf.score(X_test, y_test)"
   ]
  },
  {
   "cell_type": "code",
   "execution_count": 99,
   "metadata": {},
   "outputs": [
    {
     "name": "stdout",
     "output_type": "stream",
     "text": [
      "[3.81326181 3.71035237 3.08525124 3.95903387] 0.9108947809778428 4\n"
     ]
    }
   ],
   "source": [
    "forecast_set = clf.predict(X_lately)\n",
    "print(forecast_set, accuracy, forecast_out)"
   ]
  },
  {
   "cell_type": "code",
   "execution_count": 104,
   "metadata": {},
   "outputs": [],
   "source": [
    "import datetime as datetime\n",
    "import matplotlib.pyplot as plt\n",
    "from matplotlib import style\n",
    "import time\n",
    "style.use('ggplot')"
   ]
  },
  {
   "cell_type": "code",
   "execution_count": 105,
   "metadata": {},
   "outputs": [],
   "source": [
    "joined_table[\"Forecast\"] = np.NaN"
   ]
  },
  {
   "cell_type": "code",
   "execution_count": 106,
   "metadata": {},
   "outputs": [],
   "source": [
    "last_date = joined_table.iloc[-1].name\n",
    "last_unix = time.mktime(datetime.datetime.strptime(last_date, '%Y').timetuple())\n",
    "one_year = 31536000\n",
    "next_unix = last_unix + one_year"
   ]
  },
  {
   "cell_type": "code",
   "execution_count": 107,
   "metadata": {},
   "outputs": [],
   "source": [
    "for i in forecast_set:\n",
    "    next_year = datetime.datetime.fromtimestamp(next_unix)\n",
    "    next_unix += one_year\n",
    "    next_year = next_year.year\n",
    "    joined_table.loc[next_year] = [np.NaN for _ in range(len(joined_table.columns)-1)] + [i]"
   ]
  },
  {
   "cell_type": "code",
   "execution_count": 108,
   "metadata": {},
   "outputs": [
    {
     "data": {
      "image/png": "[encoded data removed]",
      "text/plain": [
       "<Figure size 432x288 with 1 Axes>"
      ]
     },
     "metadata": {},
     "output_type": "display_data"
    }
   ],
   "source": [
    "joined_table['Mortality_Rate'].plot()\n",
    "joined_table['Forecast'].plot()\n",
    "plt.legend(loc=3)\n",
    "plt.xlabel('Year')\n",
    "plt.ylabel('Mortality Rate')\n",
    "plt.show()"
   ]
  }
 ],
 "metadata": {
  "kernelspec": {
   "display_name": "Python 3",
   "language": "python",
   "name": "python3"
  },
  "language_info": {
   "codemirror_mode": {
    "name": "ipython",
    "version": 3
   },
   "file_extension": ".py",
   "mimetype": "text/x-python",
   "name": "python",
   "nbconvert_exporter": "python",
   "pygments_lexer": "ipython3",
   "version": "3.6.8"
  }
 },
 "nbformat": 4,
 "nbformat_minor": 2
}
